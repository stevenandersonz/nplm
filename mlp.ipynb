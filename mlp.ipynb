{
 "cells": [
  {
   "cell_type": "code",
   "execution_count": 1,
   "metadata": {},
   "outputs": [
    {
     "name": "stderr",
     "output_type": "stream",
     "text": [
      "c:\\Users\\britneyspears\\anaconda3\\envs\\fastai\\lib\\site-packages\\tqdm\\auto.py:22: TqdmWarning: IProgress not found. Please update jupyter and ipywidgets. See https://ipywidgets.readthedocs.io/en/stable/user_install.html\n",
      "  from .autonotebook import tqdm as notebook_tqdm\n"
     ]
    }
   ],
   "source": [
    "import torch.nn.functional as F\n",
    "import matplotlib.pyplot as plt\n",
    "\n",
    "%matplotlib inline\n",
    "\n"
   ]
  },
  {
   "cell_type": "code",
   "execution_count": 2,
   "metadata": {},
   "outputs": [],
   "source": [
    "import string\n",
    "\n",
    "punc_dict = {p: \" \"+p+\" \" for p in string.punctuation}\n",
    "\n",
    "punc_translation = str.maketrans(punc_dict)\n"
   ]
  },
  {
   "cell_type": "code",
   "execution_count": 3,
   "metadata": {},
   "outputs": [],
   "source": [
    "sentences = open(\"brown.txt\").readlines()"
   ]
  },
  {
   "cell_type": "code",
   "execution_count": 4,
   "metadata": {},
   "outputs": [],
   "source": [
    "def separate_punctuation(sentences):\n",
    "    ret = [''] * len(sentences)\n",
    "    for i, sentence in enumerate(sentences):\n",
    "        translated_sentence = sentence.translate(punc_translation)\n",
    "        ret[i]=translated_sentence\n",
    "    \n",
    "    return ret\n",
    "\n",
    "def build_words(sentences):\n",
    "    words_dict = {}\n",
    "    for sentence in sentences:\n",
    "        for w in sentence.split(\" \"):\n",
    "            if w == '':\n",
    "                continue\n",
    "            words_dict[w] = words_dict.get(w, 0) + 1\n",
    "    return words_dict\n",
    "\n",
    "def get_words(words_dict):\n",
    "    return words_dict.keys()\n",
    "\n",
    "def map_rare_words(sentences, words_dict, freq_thresh=3, symbol=\"<UNK>\"):\n",
    "    ret = [''] * len(sentences)\n",
    "    for i, sentence in enumerate(sentences):\n",
    "        w = sentence.split(\" \")\n",
    "        for j, word in enumerate(w):\n",
    "            if word == \"\":\n",
    "                continue\n",
    "            count = words_dict[word]\n",
    "            if count <= 3:\n",
    "                w[j] = symbol\n",
    "\n",
    "        ret[i] = \" \".join(w) \n",
    "    return ret \n",
    "\n",
    "def filter_empty_str (s):\n",
    "    return list(filter(lambda ch:  ch != '' , s.split(\" \")))"
   ]
  },
  {
   "cell_type": "code",
   "execution_count": 5,
   "metadata": {},
   "outputs": [],
   "source": [
    "sentences_transformed = separate_punctuation(sentences)\n",
    "word_dict = build_words(sentences_transformed)\n",
    "words = get_words(word_dict)\n",
    "sentences_transformed = map_rare_words(sentences_transformed, word_dict)\n",
    "word_dict2 = build_words(sentences_transformed)\n",
    "words2 = get_words(word_dict2)"
   ]
  },
  {
   "cell_type": "code",
   "execution_count": 6,
   "metadata": {},
   "outputs": [
    {
     "name": "stdout",
     "output_type": "stream",
     "text": [
      "words with punctuation 51,103\n",
      "words with punctuation and rare symbol 17,797\n",
      "sentences 19,810\n"
     ]
    }
   ],
   "source": [
    "print(f\"words with punctuation {len(words):,.0f}\")\n",
    "print(f\"words with punctuation and rare symbol {len(words2):,.0f}\")\n",
    "print(f\"sentences {len(sentences_transformed):,.0f}\")"
   ]
  },
  {
   "cell_type": "code",
   "execution_count": 7,
   "metadata": {},
   "outputs": [
    {
     "name": "stdout",
     "output_type": "stream",
     "text": [
      "17797\n"
     ]
    }
   ],
   "source": [
    "# build the vocabulary of characters and mappings to/from integers\n",
    "stoi = {s:i for i,s in enumerate(set(words2))}\n",
    "itos = {i:s for s,i in stoi.items()}\n",
    "vocab_size = len(itos)\n",
    "print(vocab_size)"
   ]
  },
  {
   "cell_type": "code",
   "execution_count": 54,
   "metadata": {},
   "outputs": [
    {
     "name": "stdout",
     "output_type": "stream",
     "text": [
      "torch.Size([925041, 5]) torch.Size([925041])\n",
      "torch.Size([123760, 5]) torch.Size([123760])\n",
      "torch.Size([116581, 5]) torch.Size([116581])\n"
     ]
    }
   ],
   "source": [
    "import torch\n",
    "# build the dataset\n",
    "block_size = 5 # context length: how many characters do we take to predict the next one?\n",
    "\n",
    "def build_dataset(sentences):  \n",
    "    X, Y = [], []\n",
    "  \n",
    "    for sentence in sentences:\n",
    "        words = filter_empty_str(sentence)\n",
    "        context = [stoi[w] for w in words[:block_size] ]\n",
    "        for word in words[block_size:] :\n",
    "            if word == '':\n",
    "                continue\n",
    "            ix = stoi[word]\n",
    "            X.append(context)\n",
    "            Y.append(ix)\n",
    "            context = context[1:] + [ix] # crop and append\n",
    "\n",
    "    X = torch.tensor(X)\n",
    "    Y = torch.tensor(Y)\n",
    "    print(X.shape, Y.shape)\n",
    "    return X, Y\n",
    "\n",
    "import random\n",
    "random.seed(42)\n",
    "random.shuffle(sentences_transformed)\n",
    "n1 = int(len(sentences_transformed) *0.8)\n",
    "n2 = int(len(sentences_transformed) * 0.9) \n",
    "\n",
    "Xtr,  Ytr  = build_dataset(sentences_transformed[:n1])     \n",
    "Xdev, Ydev = build_dataset(sentences_transformed[n1:n2])   \n",
    "Xte,  Yte  = build_dataset(sentences_transformed[n2:])    "
   ]
  },
  {
   "cell_type": "code",
   "execution_count": 55,
   "metadata": {},
   "outputs": [
    {
     "name": "stdout",
     "output_type": "stream",
     "text": [
      "tensor([12333,  6999,  6934, 10848, 13566])\n",
      "tensor(12333)\n",
      "['\"', 'We', '-', 'we', '<UNK>']\n",
      "\"\n"
     ]
    }
   ],
   "source": [
    "print(Xtr[0])\n",
    "print(Ytr[0])\n",
    "\n",
    "print(list(map(lambda x: itos[x.item()], Xtr[0])))\n",
    "print(itos[Ytr[0].item()])"
   ]
  },
  {
   "cell_type": "code",
   "execution_count": 56,
   "metadata": {},
   "outputs": [],
   "source": [
    "from torch import nn\n",
    "class MLP(nn.Module):\n",
    "    def __init__(self, vocab_size, n_size=5, h_size=50, emb_size=60):\n",
    "        super(MLP, self).__init__()\n",
    "        self.C = nn.Embedding(vocab_size, emb_size).type(torch.float32)\n",
    "        self.H = nn.Parameter(torch.randn((n_size)*emb_size, h_size).type(torch.float32))\n",
    "        nn.init.kaiming_uniform_(self.H, mode='fan_in', nonlinearity='tanh')\n",
    "        self.d = nn.Parameter(torch.randn(h_size).type(torch.float32))\n",
    "        self.W = nn.Parameter(torch.randn((n_size)*emb_size, vocab_size).type(torch.float32)*0.01)\n",
    "        self.U = nn.Parameter(torch.randn(h_size, vocab_size).type(torch.float32) * 0.01)\n",
    "        self.b = nn.Parameter(torch.randn(vocab_size).type(torch.float32))\n",
    "    def forward(self, x):\n",
    "        x = self.C(x)\n",
    "        x = x.view(x.shape[0],-1)\n",
    "        tanh = torch.tanh(x @ self.H + self.d)\n",
    "        x = tanh @ self.U + x @ self.W  + self.b\n",
    "        return x"
   ]
  },
  {
   "cell_type": "code",
   "execution_count": 65,
   "metadata": {},
   "outputs": [],
   "source": [
    "model = MLP(vocab_size)\n",
    "loss_fn = nn.CrossEntropyLoss()\n",
    "optimizer = torch.optim.Adam(model.parameters(), lr=0.001)"
   ]
  },
  {
   "cell_type": "code",
   "execution_count": 58,
   "metadata": {},
   "outputs": [
    {
     "name": "stdout",
     "output_type": "stream",
     "text": [
      "torch.Size([20, 50])\n"
     ]
    },
    {
     "data": {
      "text/plain": [
       "<matplotlib.image.AxesImage at 0x1afb16d4eb0>"
      ]
     },
     "execution_count": 58,
     "metadata": {},
     "output_type": "execute_result"
    },
    {
     "data": {
      "image/png": "[encoded data removed]",
      "text/plain": [
       "<Figure size 2000x6000 with 1 Axes>"
      ]
     },
     "metadata": {},
     "output_type": "display_data"
    }
   ],
   "source": [
    "model.cpu()\n",
    "h = torch.tanh(model.C(Xtr).view(Xtr.shape[0], -1) @ model.H + model.d)\n",
    "t = h[:20,:].abs() > 0.99\n",
    "print(t.shape)\n",
    "plt.figure(figsize=(20,60))\n",
    "plt.imshow(t, cmap=\"gray\", interpolation=\"nearest\")\n"
   ]
  },
  {
   "cell_type": "code",
   "execution_count": 66,
   "metadata": {},
   "outputs": [
    {
     "name": "stdout",
     "output_type": "stream",
     "text": [
      "      0/ 100000: 10.4553\n",
      "  10000/ 100000: 5.2829\n",
      "  20000/ 100000: 4.4102\n",
      "  30000/ 100000: 5.2758\n",
      "  40000/ 100000: 4.9285\n",
      "  50000/ 100000: 5.3346\n",
      "  60000/ 100000: 5.5865\n",
      "  70000/ 100000: 5.5749\n",
      "  80000/ 100000: 6.1442\n",
      "  90000/ 100000: 6.0310\n"
     ]
    }
   ],
   "source": [
    "max_steps = 100000\n",
    "batch_size = 32\n",
    "lossi = []\n",
    "model.cuda()\n",
    "\n",
    "\n",
    "for i in range(max_steps):\n",
    "    ix = torch.randint(0, Xtr.shape[0], (batch_size,))\n",
    "    optimizer.zero_grad()\n",
    "    logits = model(Xtr[ix].cuda())\n",
    "    loss = loss_fn(logits, Ytr[ix].cuda())\n",
    "    loss.backward()\n",
    "    optimizer.step()\n",
    "    optimizer.param_groups[0]['lr'] /=  1 + 10**-8 * i\n",
    "    lossi.append(loss.item())\n",
    "    if i % 10000 == 0:\n",
    "        print(f'{i:7d}/{max_steps:7d}: {loss.item():.4f}')"
   ]
  },
  {
   "cell_type": "code",
   "execution_count": 64,
   "metadata": {},
   "outputs": [
    {
     "name": "stdout",
     "output_type": "stream",
     "text": [
      "0.001\n",
      "0.0006065104433717649\n",
      "0.00013533979403683333\n",
      "1.111232923719139e-05\n",
      "3.3575343001773213e-07\n",
      "3.7334899255612045e-09\n",
      "1.528030657429031e-11\n",
      "2.3020517996148116e-14\n",
      "1.2767545923808674e-17\n",
      "2.6070685044431836e-21\n"
     ]
    }
   ],
   "source": [
    "lr1 = 0.001\n",
    "\n",
    "for i in range(100000):\n",
    "    lr1 /= 1 + 10**-8 * i \n",
    "    if i % 10000 == 0:\n",
    "        print(lr1)"
   ]
  },
  {
   "cell_type": "code",
   "execution_count": null,
   "metadata": {},
   "outputs": [],
   "source": []
  }
 ],
 "metadata": {
  "kernelspec": {
   "display_name": "Python 3.10.4 ('fastai')",
   "language": "python",
   "name": "python3"
  },
  "language_info": {
   "codemirror_mode": {
    "name": "ipython",
    "version": 3
   },
   "file_extension": ".py",
   "mimetype": "text/x-python",
   "name": "python",
   "nbconvert_exporter": "python",
   "pygments_lexer": "ipython3",
   "version": "3.10.4"
  },
  "orig_nbformat": 4,
  "vscode": {
   "interpreter": {
    "hash": "d4dd1527965e0d44d21a46d821b1de4b0df2ba1eeb72805b639766fd48986cbe"
   }
  }
 },
 "nbformat": 4,
 "nbformat_minor": 2
}
